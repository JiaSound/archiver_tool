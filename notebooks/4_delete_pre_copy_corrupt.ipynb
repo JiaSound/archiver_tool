{
 "cells": [
  {
   "cell_type": "code",
   "execution_count": 213,
   "id": "3a6cc510",
   "metadata": {},
   "outputs": [],
   "source": [
    "###### preupload_scan DELETING TABLE + RESET COUNTER (OTHERWISE COUNTER WOULD KEEP COUNTING) ########\n",
    "\n",
    "\n",
    "import sqlite3\n",
    "\n",
    "\n",
    "conn = sqlite3.connect('/home/jia/Desktop/archiver_tool/database/archiver_database.db')\n",
    "cursor = conn.cursor()\n",
    "\n",
    "cursor.execute('DELETE FROM preupload_scan')\n",
    "\n",
    "cursor.execute('DELETE FROM sqlite_sequence WHERE name =\"preupload_scan\"')\n",
    "\n",
    "conn.commit()\n",
    "conn.close()"
   ]
  },
  {
   "cell_type": "code",
   "execution_count": 214,
   "id": "8e784df6",
   "metadata": {},
   "outputs": [],
   "source": [
    "###### copy_buffer DELETING TABLE + RESET COUNTER (OTHERWISE COUNTER WOULD KEEP COUNTING) ########\n",
    "\n",
    "\n",
    "import sqlite3\n",
    "\n",
    "\n",
    "conn = sqlite3.connect('/home/jia/Desktop/archiver_tool/database/archiver_database.db')\n",
    "cursor = conn.cursor()\n",
    "\n",
    "cursor.execute('DELETE FROM copy_buffer')\n",
    "\n",
    "cursor.execute('DELETE FROM sqlite_sequence WHERE name =\"copy_buffer\"')\n",
    "\n",
    "conn.commit()\n",
    "conn.close()"
   ]
  },
  {
   "cell_type": "code",
   "execution_count": 215,
   "id": "f0fd79a5",
   "metadata": {},
   "outputs": [],
   "source": [
    "###### preupload_corrupted_files DELETING TABLE + RESET COUNTER (OTHERWISE COUNTER WOULD KEEP COUNTING) ########\n",
    "\n",
    "\n",
    "import sqlite3\n",
    "\n",
    "\n",
    "conn = sqlite3.connect('/home/jia/Desktop/archiver_tool/database/archiver_database.db')\n",
    "cursor = conn.cursor()\n",
    "\n",
    "cursor.execute('DELETE FROM preupload_corrupted_files')\n",
    "\n",
    "cursor.execute('DELETE FROM sqlite_sequence WHERE name =\"preupload_corrupted_files\"')\n",
    "\n",
    "conn.commit()\n",
    "conn.close()"
   ]
  },
  {
   "cell_type": "code",
   "execution_count": 216,
   "id": "ea820dd7",
   "metadata": {},
   "outputs": [],
   "source": [
    "###### copy_corrupted_files DELETING TABLE + RESET COUNTER (OTHERWISE COUNTER WOULD KEEP COUNTING) ########\n",
    "\n",
    "\n",
    "import sqlite3\n",
    "\n",
    "\n",
    "conn = sqlite3.connect('/home/jia/Desktop/archiver_tool/database/archiver_database.db')\n",
    "cursor = conn.cursor()\n",
    "\n",
    "cursor.execute('DELETE FROM copy_corrupted_files')\n",
    "\n",
    "cursor.execute('DELETE FROM sqlite_sequence WHERE name =\"copy_corrupted_files\"')\n",
    "\n",
    "conn.commit()\n",
    "conn.close()"
   ]
  }
 ],
 "metadata": {
  "kernelspec": {
   "display_name": ".venv",
   "language": "python",
   "name": "python3"
  },
  "language_info": {
   "codemirror_mode": {
    "name": "ipython",
    "version": 3
   },
   "file_extension": ".py",
   "mimetype": "text/x-python",
   "name": "python",
   "nbconvert_exporter": "python",
   "pygments_lexer": "ipython3",
   "version": "3.12.3"
  }
 },
 "nbformat": 4,
 "nbformat_minor": 5
}
